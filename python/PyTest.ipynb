{
 "cells": [
  {
   "cell_type": "code",
   "execution_count": 1,
   "metadata": {
    "collapsed": false
   },
   "outputs": [],
   "source": [
    "%matplotlib inline\n",
    "import numpy\n",
    "import pylab\n",
    "import SterileSearchPy as ssp\n"
   ]
  },
  {
   "cell_type": "code",
   "execution_count": 2,
   "metadata": {
    "collapsed": false
   },
   "outputs": [
    {
     "data": {
      "text/plain": [
       "'/home/carguelles/programs/SNOT/FluxSplines/propagated_splines/'"
      ]
     },
     "execution_count": 2,
     "metadata": {},
     "output_type": "execute_result"
    }
   ],
   "source": [
    "#An object of type \"DataPaths\" is used to set where we find all the data.\n",
    "# make one like this:\n",
    "dp=ssp.DataPaths()\n",
    "\n",
    "#feel free to reset them. For example, in this notebook I will use custom locations for these things:\n",
    "dp.mc_path=\"/data/user/bjones/Sterilizer/Sterilizer/test_data/\"\n",
    "dp.squids_files_path=\"/data/user/bjones/Sterilizer/Sterilizer/test_data/\"\n",
    "\n",
    "#It has these keys (tab complete dp.[tab] to see)\n",
    "dp.compact_file_path  # Compact data processed and dumped to disk (.dat) is\n",
    "dp.data_path          # Full scale data file (.hdf5) is\n",
    "dp.domeff_spline_path # Dom efficiency correction splines are (.dat)\n",
    "dp.mc_path            # Where the full scale MC files are after processEnergy (.hdf5)\n",
    "dp.oversize_path      # Oversize correction function for changing oversize MC to non-oversize MC (.dat)\n",
    "dp.squids_files_path  # Conventional atmospheric flux evolved by squids for various osc hypotheses are (.hdf5)\n",
    "dp.prompt_squids_files_path  # as above but the prompt flux (.hdf5)\n",
    "dp.xs_spline_path     # Cross section splines (.fits) \n",
    "dp.flux_splines_path  # Flux splines (.fits) are - for factorized mode only"
   ]
  },
  {
   "cell_type": "code",
   "execution_count": 3,
   "metadata": {
    "collapsed": false
   },
   "outputs": [
    {
     "data": {
      "text/plain": [
       "False"
      ]
     },
     "execution_count": 3,
     "metadata": {},
     "output_type": "execute_result"
    }
   ],
   "source": [
    "# An object of type \"SteeringParams\" is used to configure the fitter.\n",
    "sp=ssp.SteeringParams()\n",
    "\n",
    "# Data / MC Configuration\n",
    "sp.useBurnSample       # Whether to load burnsample or full data\n",
    "sp.ReadCompact         # Read compact or full data and mc\n",
    "sp.xs_model_name       # Which cross section model to use\n",
    "sp.modelName           # Which flux model to use\n",
    "sp.oversizeFunction    # Which oversize function to use\n",
    "sp.simToLoad           # Which simulation set to load\n",
    "\n",
    "#Binning\n",
    "sp.cosThbinEdge        # Cos theta binning\n",
    "sp.cosThbinWidth       #  --\n",
    "sp.maxCosth            #  --\n",
    "sp.minCosth            #  --\n",
    "\n",
    "sp.logEbinEdge         # Energy binning\n",
    "sp.logEbinWidth        #  --\n",
    "sp.maxFitEnergy        #  --\n",
    "sp.minFitEnergy        #  --\n",
    "\n",
    "#Livetime\n",
    "#sp.years               # which years to load\n",
    "#sp.burnSampleLivetime  # total livetime of burn sample\n",
    "#sp.fullLivetime        # total livetime of full sample\n",
    "\n",
    "#Technical stuff\n",
    "sp.useFactorization    # Whether to enable oscillation factorization\n",
    "sp.evalThreads         # How many threads to use for evaluating fits\n",
    "sp.quiet               # Control program verbosity"
   ]
  },
  {
   "cell_type": "code",
   "execution_count": 4,
   "metadata": {
    "collapsed": false
   },
   "outputs": [
    {
     "data": {
      "text/plain": [
       "0.0"
      ]
     },
     "execution_count": 4,
     "metadata": {},
     "output_type": "execute_result"
    }
   ],
   "source": [
    "# And an object of type \"SterileNuParams\" sets the hypothesis we will fit against.\n",
    "#   Here we set it to the null hypothesis\n",
    "#\n",
    "snp=ssp.SterileNuParams()\n",
    "snp.del14=0\n",
    "snp.del24=0\n",
    "snp.dm41sq=0\n",
    "snp.modelId=0\n",
    "snp.th14=0\n",
    "snp.th24=0\n",
    "snp.th34"
   ]
  },
  {
   "cell_type": "code",
   "execution_count": null,
   "metadata": {
    "collapsed": true
   },
   "outputs": [],
   "source": [
    "# The object that does the magic is called Sterilizer and is initialized with these parameters:\n",
    "#   Note that it will take a long time to load, as it brings the data into memory.\n",
    "# \n",
    "sp.ReadCompact=False\n",
    "ster=ssp.Sterilizer(dp,sp,snp)\n"
   ]
  },
  {
   "cell_type": "code",
   "execution_count": 1,
   "metadata": {
    "collapsed": true
   },
   "outputs": [],
   "source": [
    "#Bens notes - broken.\n",
    "# File path checks on all files.\n",
    "# pybinding for years\n",
    "# pybinding for maps"
   ]
  },
  {
   "cell_type": "code",
   "execution_count": null,
   "metadata": {
    "collapsed": true
   },
   "outputs": [],
   "source": []
  }
 ],
 "metadata": {
  "kernelspec": {
   "display_name": "Python 2",
   "language": "python",
   "name": "python2"
  },
  "language_info": {
   "codemirror_mode": {
    "name": "ipython",
    "version": 2
   },
   "file_extension": ".py",
   "mimetype": "text/x-python",
   "name": "python",
   "nbconvert_exporter": "python",
   "pygments_lexer": "ipython2",
   "version": "2.7.10"
  }
 },
 "nbformat": 4,
 "nbformat_minor": 0
}
