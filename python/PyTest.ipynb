{
 "cells": [
  {
   "cell_type": "markdown",
   "metadata": {},
   "source": [
    "# Importing "
   ]
  },
  {
   "cell_type": "code",
   "execution_count": 1,
   "metadata": {
    "collapsed": false
   },
   "outputs": [],
   "source": [
    "import numpy\n",
    "import pylab\n",
    "\n",
    "#This module has the fit code\n",
    "import SterileSearchPy as ssp\n",
    "\n",
    "#And this will bring in code for cute plots\n",
    "import SterilePlotting"
   ]
  },
  {
   "cell_type": "code",
   "execution_count": 2,
   "metadata": {
    "collapsed": true
   },
   "outputs": [],
   "source": [
    "%matplotlib inline"
   ]
  },
  {
   "cell_type": "markdown",
   "metadata": {},
   "source": [
    "# Configuration"
   ]
  },
  {
   "cell_type": "code",
   "execution_count": 3,
   "metadata": {
    "collapsed": false
   },
   "outputs": [],
   "source": [
    "#An object of type \"DataPaths\" is used to set where we find all the data.\n",
    "# make one like this:\n",
    "dp=ssp.DataPaths()\n",
    "\n",
    "#For this notebook we will set these two:\n",
    "dp.squids_files_path=\"/data/user/bjones/Sterilizer/Sterilizer/conventional_fluxes/\"\n",
    "dp.prompt_squids_files_path=\"/data/user/bjones/Sterilizer/Sterilizer/prompt_fluxes/\"\n",
    "dp.compact_file_path='/tmp/bjones/'"
   ]
  },
  {
   "cell_type": "code",
   "execution_count": 4,
   "metadata": {
    "collapsed": true
   },
   "outputs": [],
   "source": [
    "# An object of type \"SteeringParams\" is used to configure the fitter.\n",
    "sp=ssp.SteeringParams()\n",
    "\n",
    "#For this notebook, we set the binning, and not to read compact\n",
    "sp.ReadCompact=False\n",
    "sp.logEbinEdge=numpy.log10(400)\n",
    "sp.logEbinWidth=0.17"
   ]
  },
  {
   "cell_type": "code",
   "execution_count": null,
   "metadata": {
    "collapsed": true
   },
   "outputs": [],
   "source": [
    "# And an object of type \"SterileNuParams\" sets the hypothesis we will fit against.\n",
    "#   Here we set it to the null hypothesis\n",
    "#\n",
    "snp=ssp.SterileNuParams()\n",
    "snp.del14=0\n",
    "snp.del24=0\n",
    "snp.dm41sq=0\n",
    "snp.modelId=0\n",
    "snp.th14=0\n",
    "snp.th24=0\n",
    "snp.th34=0"
   ]
  },
  {
   "cell_type": "code",
   "execution_count": null,
   "metadata": {
    "collapsed": false
   },
   "outputs": [],
   "source": [
    "# Having picked our parameters, we build the Sterilizer object.\n",
    "# This is configured with one MC set and loads the data automatically\n",
    "#   - but if we want to we can replace the data with something else later.\n",
    "#   (see spitting and swallowing below)\n",
    "# It is also configured with one set of sterile neutrino parameters,\n",
    "# and one set of data paths / steering parameters. \n",
    "# See the section \"Configurable parameters\" below for more information on these.\n",
    "#\n",
    "# Note - it will take a while to build but you can watch progress on the command line.\n",
    "\n",
    "sterilizer = ssp.Sterilizer(dp,sp,snp)"
   ]
  },
  {
   "cell_type": "markdown",
   "metadata": {},
   "source": [
    "# Nuisance parameters"
   ]
  },
  {
   "cell_type": "code",
   "execution_count": null,
   "metadata": {
    "collapsed": false
   },
   "outputs": [],
   "source": [
    "# We can probe various distributions of the MC at different values of the nuisance \n",
    "# parameters. A set of nuisance parameters is supplied via a ssp.Nuisance object.\n",
    "# tab complete one to see what its members are.\n",
    "\n",
    "# This is the default set of nuisance params\n",
    "DefaultNuisance = ssp.Nuisance()\n",
    "\n",
    "# And here is another set, but we modified the pi/k ratio by 20%\n",
    "ModifiedNuisance = ssp.Nuisance()\n",
    "ModifiedNuisance.piKRatio=1.2"
   ]
  },
  {
   "cell_type": "markdown",
   "metadata": {},
   "source": [
    "# Getting Distributions"
   ]
  },
  {
   "cell_type": "code",
   "execution_count": null,
   "metadata": {
    "collapsed": true
   },
   "outputs": [],
   "source": [
    "# The data and MC load automatically into histograms.\n",
    "# For most of our plots we will need to know how they are binned.\n",
    "# This is how we find out.\n",
    "\n",
    "EbinsData = numpy.array(sterilizer.GetEnergyBinsData())\n",
    "EbinsMC   = numpy.array(sterilizer.GetEnergyBinsMC())\n",
    "ZbinsData = numpy.array(sterilizer.GetZenithBinsData())\n",
    "ZbinsMC   = numpy.array(sterilizer.GetZenithBinsMC())"
   ]
  },
  {
   "cell_type": "code",
   "execution_count": null,
   "metadata": {
    "collapsed": false
   },
   "outputs": [],
   "source": [
    "#This is how to get the data distribution. [0] means year 0, which\n",
    "# is 2011. We only have this year for now.\n",
    "\n",
    "data=sterilizer.GetDataDistribution()[0]"
   ]
  },
  {
   "cell_type": "code",
   "execution_count": null,
   "metadata": {
    "collapsed": true
   },
   "outputs": [],
   "source": [
    "#This is how to get the expectation of the MC, with two different\n",
    "#  sets of nuisance parameters\n",
    "\n",
    "expecDefault = sterilizer.GetExpectation(DefaultNuisance)[0]\n",
    "expecModPiK  = sterilizer.GetExpectation(ModifiedNuisance)[0]"
   ]
  },
  {
   "cell_type": "code",
   "execution_count": null,
   "metadata": {
    "collapsed": false
   },
   "outputs": [],
   "source": [
    "#This will give you one random realization of the MC (realization number 1 in this case):\n",
    "\n",
    "randomseed   = 1\n",
    "realization  = sterilizer.GetRealization(DefaultNuisance,randomseed)[0]"
   ]
  },
  {
   "cell_type": "markdown",
   "metadata": {},
   "source": [
    "# Plotting"
   ]
  },
  {
   "cell_type": "code",
   "execution_count": null,
   "metadata": {
    "collapsed": true
   },
   "outputs": [],
   "source": [
    "# The SterilePlotting module has some handy default plots in it.\n",
    "# Refer to and modify code therein for more advanced plots."
   ]
  },
  {
   "cell_type": "code",
   "execution_count": null,
   "metadata": {
    "collapsed": false
   },
   "outputs": [],
   "source": [
    "# This makes the absolute counts plot (two examples)\n",
    "SterilePlotting.Draw2DAbsHistogram(data,bins=(EbinsData,ZbinsData),title=\"Data Histogram\")\n",
    "SterilePlotting.Draw2DAbsHistogram(expecDefault,bins=(EbinsMC,ZbinsMC),title=\"MC Histogram\")"
   ]
  },
  {
   "cell_type": "code",
   "execution_count": null,
   "metadata": {
    "collapsed": false
   },
   "outputs": [],
   "source": [
    "# This makes a ratio plot ((d1-d2)/d1)\n",
    "SterilePlotting.Draw2DRatioHistogram(expecDefault,expecModPiK,bins=(EbinsData,ZbinsData),title=\"Effect of 20% Pi/K shift\")"
   ]
  },
  {
   "cell_type": "code",
   "execution_count": null,
   "metadata": {
    "collapsed": false
   },
   "outputs": [],
   "source": [
    "# This makes a pulls plot ((data-mc) / sqrt(mc))\n",
    "SterilePlotting.Draw2DPullPlot(realization,expecDefault,bins=(EbinsMC,ZbinsMC),title=\"Pulls in random realization\")"
   ]
  },
  {
   "cell_type": "markdown",
   "metadata": {},
   "source": [
    "#Reading and Writing Compact "
   ]
  },
  {
   "cell_type": "code",
   "execution_count": null,
   "metadata": {
    "collapsed": false
   },
   "outputs": [],
   "source": [
    "# To speed up the MC loading process we can store a compact version of the data\n",
    "#  and suck it in later. Here is how we store it:\n",
    "\n",
    "# This will fail. comment for now.\n",
    "#sterilizer.WriteCompact()"
   ]
  },
  {
   "cell_type": "code",
   "execution_count": null,
   "metadata": {
    "collapsed": false
   },
   "outputs": [],
   "source": [
    "# And here is how to read it, into a new sterilizer object:\n",
    "#sp.ReadCompact=True\n",
    "#newsterilizer=ssp.Sterilizer(dp,sp,snp)\n",
    "#newmc=newsterilizer.GetExpectation(DefaultNuisance)[0]\n",
    "#EbinsNewMC = numpy.array(newsterilizer.GetEnergyBinsMC())\n",
    "#ZbinsNewMC = numpy.array(newsterilizer.GetZenithBinsMC())\n",
    "#SterilePlotting.Draw2DAbsHistogram(newdata,bins=(EbinsNewMC,ZbinsNewMC),title=\"New Data\")"
   ]
  },
  {
   "cell_type": "markdown",
   "metadata": {},
   "source": [
    "# Spitting and Swallowing"
   ]
  },
  {
   "cell_type": "code",
   "execution_count": null,
   "metadata": {
    "collapsed": true
   },
   "outputs": [],
   "source": [
    "# We can get data, expectations and realizations out as actual event lists. Like this:\n",
    "DataList         = sterilizer.SpitData()\n",
    "RealizationList  = sterilizer.SpitRealization(DefaultNuisance,randomseed)\n",
    "ModRealizationList  = sterilizer.SpitRealization(ModifiedNuisance,randomseed)\n",
    "ExpectationList  = sterilizer.SpitExpectation(DefaultNuisance)\n"
   ]
  },
  {
   "cell_type": "code",
   "execution_count": null,
   "metadata": {
    "collapsed": false
   },
   "outputs": [],
   "source": [
    "# The format of each entry is [energy, zenith, year, weight]. So we might plot energy like this, for example:\n",
    "pylab.figure(figsize=(10,10))\n",
    "bins=pow(10,numpy.linspace(numpy.log10(400),numpy.log10(20000),20))\n",
    "pylab.hist(DataList[:,0],weights=DataList[:,3],label=\"Data\",histtype='step',linewidth=2,bins=bins)\n",
    "pylab.hist(RealizationList[:,0],weights=RealizationList[:,3],label=\"One Realization (default)\",bins=bins,histtype='step',linewidth=2)\n",
    "pylab.hist(ModRealizationList[:,0],weights=ModRealizationList[:,3],label=\"One realization (Pi/K +20%)\",bins=bins,histtype='step',linewidth=2)\n",
    "pylab.loglog()\n",
    "pylab.xlabel(\"Energy / GeV\")\n",
    "pylab.xlim(400,20000)\n",
    "pylab.ylabel(\"Count\")\n",
    "pylab.legend(loc='upper right')"
   ]
  },
  {
   "cell_type": "code",
   "execution_count": null,
   "metadata": {
    "collapsed": false
   },
   "outputs": [],
   "source": [
    "#We can also pass an event list back into the fitter as it was data. We do that as follows:\n",
    "sterilizer.Swallow(RealizationList)"
   ]
  },
  {
   "cell_type": "markdown",
   "metadata": {},
   "source": [
    "# Asimov Mode"
   ]
  },
  {
   "cell_type": "code",
   "execution_count": 42,
   "metadata": {
    "collapsed": false
   },
   "outputs": [
    {
     "ename": "AttributeError",
     "evalue": "'Sterilizer' object has no attribute 'SetupAsimov'",
     "output_type": "error",
     "traceback": [
      "\u001b[1;31m---------------------------------------------------------------------------\u001b[0m",
      "\u001b[1;31mAttributeError\u001b[0m                            Traceback (most recent call last)",
      "\u001b[1;32m<ipython-input-42-51a6caad7ae6>\u001b[0m in \u001b[0;36m<module>\u001b[1;34m()\u001b[0m\n\u001b[0;32m      1\u001b[0m \u001b[1;31m# To calculate an Asimov sensitivity, we have to set the data list equal to\u001b[0m\u001b[1;33m\u001b[0m\u001b[1;33m\u001b[0m\u001b[0m\n\u001b[0;32m      2\u001b[0m \u001b[1;31m#  the expectation from the MC. We do that as follows:\u001b[0m\u001b[1;33m\u001b[0m\u001b[1;33m\u001b[0m\u001b[0m\n\u001b[1;32m----> 3\u001b[1;33m \u001b[0msterilizer\u001b[0m\u001b[1;33m.\u001b[0m\u001b[0mSetupAsimov\u001b[0m\u001b[1;33m(\u001b[0m\u001b[0mDefaultNuisance\u001b[0m\u001b[1;33m)\u001b[0m\u001b[1;33m\u001b[0m\u001b[0m\n\u001b[0m",
      "\u001b[1;31mAttributeError\u001b[0m: 'Sterilizer' object has no attribute 'SetupAsimov'"
     ]
    }
   ],
   "source": [
    "# To calculate an Asimov sensitivity, we have to set the data list equal to\n",
    "#  the expectation from the MC. We do that as follows:\n",
    "sterilizer.SetupAsimov(DefaultNuisance)"
   ]
  },
  {
   "cell_type": "markdown",
   "metadata": {},
   "source": [
    "# Configurable Parameters"
   ]
  },
  {
   "cell_type": "code",
   "execution_count": null,
   "metadata": {
    "collapsed": true
   },
   "outputs": [],
   "source": [
    "# In SteeringParams:\n",
    "\n",
    "# Data / MC Configuration\n",
    "sp.useBurnSample       # Whether to load burnsample or full data\n",
    "sp.ReadCompact         # Read compact or full data and mc\n",
    "sp.xs_model_name       # Which cross section model to use\n",
    "sp.modelName           # Which flux model to use\n",
    "sp.oversizeFunction    # Which oversize function to use\n",
    "sp.simToLoad           # Which simulation set to load\n",
    "\n",
    "#Binning\n",
    "sp.cosThbinEdge        # Cos theta binning\n",
    "sp.cosThbinWidth       #  --\n",
    "sp.maxCosth            #  --\n",
    "sp.minCosth            #  --\n",
    "\n",
    "sp.logEbinEdge         # Energy binning\n",
    "sp.logEbinWidth        #  --\n",
    "sp.maxFitEnergy        #  --\n",
    "sp.minFitEnergy        #  --\n",
    "\n",
    "#Livetime\n",
    "sp.years               # which years to load\n",
    "sp.burnSampleLivetime  # total livetime of burn sample\n",
    "sp.fullLivetime        # total livetime of full sample\n",
    "\n",
    "#Technical stuff\n",
    "sp.useFactorization    # Whether to enable oscillation factorization\n",
    "sp.evalThreads         # How many threads to use for evaluating fits\n",
    "sp.quiet               # Control program verbosity"
   ]
  },
  {
   "cell_type": "code",
   "execution_count": null,
   "metadata": {
    "collapsed": true
   },
   "outputs": [],
   "source": [
    "#List of datapaths parameters:\n",
    "\n",
    "dp.compact_file_path  # Compact data processed and dumped to disk (.dat) is\n",
    "dp.data_path          # Full scale data file (.hdf5) is\n",
    "dp.domeff_spline_path # Dom efficiency correction splines are (.dat)\n",
    "dp.mc_path            # Where the full scale MC files are after processEnergy (.hdf5)\n",
    "dp.oversize_path      # Oversize correction function for changing oversize MC to non-oversize MC (.dat)\n",
    "dp.squids_files_path  # Conventional atmospheric flux evolved by squids for various osc hypotheses are (.hdf5)\n",
    "dp.prompt_squids_files_path  # as above but the prompt flux (.hdf5)\n",
    "dp.xs_spline_path     # Cross section splines (.fits) \n",
    "dp.flux_splines_path  # Flux splines (.fits) are - for factorized mode only"
   ]
  },
  {
   "cell_type": "code",
   "execution_count": 16,
   "metadata": {
    "collapsed": false
   },
   "outputs": [
    {
     "data": {
      "text/plain": [
       "2"
      ]
     },
     "execution_count": 16,
     "metadata": {},
     "output_type": "execute_result"
    }
   ],
   "source": [
    "1+1"
   ]
  },
  {
   "cell_type": "code",
   "execution_count": null,
   "metadata": {
    "collapsed": true
   },
   "outputs": [],
   "source": []
  }
 ],
 "metadata": {
  "kernelspec": {
   "display_name": "Python 2",
   "language": "python",
   "name": "python2"
  },
  "language_info": {
   "codemirror_mode": {
    "name": "ipython",
    "version": 2
   },
   "file_extension": ".py",
   "mimetype": "text/x-python",
   "name": "python",
   "nbconvert_exporter": "python",
   "pygments_lexer": "ipython2",
   "version": "2.7.10"
  }
 },
 "nbformat": 4,
 "nbformat_minor": 0
}
