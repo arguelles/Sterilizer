{
 "cells": [
  {
   "cell_type": "code",
   "execution_count": 1,
   "metadata": {
    "collapsed": false
   },
   "outputs": [],
   "source": [
    "%matplotlib inline\n",
    "import numpy\n",
    "import pylab\n",
    "import SterileSearchPy as ssp\n"
   ]
  },
  {
   "cell_type": "code",
   "execution_count": 2,
   "metadata": {
    "collapsed": false
   },
   "outputs": [
    {
     "data": {
      "text/plain": [
       "'/home/carguelles/programs/SNOT/FluxSplines/propagated_splines/'"
      ]
     },
     "execution_count": 2,
     "metadata": {},
     "output_type": "execute_result"
    }
   ],
   "source": [
    "#An object of type \"DataPaths\" is used to set where we find all the data.\n",
    "# make one like this:\n",
    "dp=ssp.DataPaths()\n",
    "\n",
    "#feel free to reset them. For example, in this notebook I will use custom locations for these things:\n",
    "dp.mc_path=\"/data/user/bjones/Sterilizer/Sterilizer/test_data/\"\n",
    "dp.squids_files_path=\"/data/user/bjones/Sterilizer/Sterilizer/test_data/\"\n",
    "\n",
    "#It has these keys (tab complete dp.[tab] to see)\n",
    "dp.compact_file_path  # Compact data processed and dumped to disk (.dat) is\n",
    "dp.data_path          # Full scale data file (.hdf5) is\n",
    "dp.domeff_spline_path # Dom efficiency correction splines are (.dat)\n",
    "dp.mc_path            # Where the full scale MC files are after processEnergy (.hdf5)\n",
    "dp.oversize_path      # Oversize correction function for changing oversize MC to non-oversize MC (.dat)\n",
    "dp.squids_files_path  # Conventional atmospheric flux evolved by squids for various osc hypotheses are (.hdf5)\n",
    "dp.prompt_squids_files_path  # as above but the prompt flux (.hdf5)\n",
    "dp.xs_spline_path     # Cross section splines (.fits) \n",
    "dp.flux_splines_path  # Flux splines (.fits) are - for factorized mode only"
   ]
  },
  {
   "cell_type": "code",
   "execution_count": 3,
   "metadata": {
    "collapsed": false
   },
   "outputs": [
    {
     "ename": "TypeError",
     "evalue": "No Python class registered for C++ class std::__1::vector<unsigned int, std::__1::allocator<unsigned int> >",
     "output_type": "error",
     "traceback": [
      "\u001b[1;31m---------------------------------------------------------------------------\u001b[0m",
      "\u001b[1;31mTypeError\u001b[0m                                 Traceback (most recent call last)",
      "\u001b[1;32m<ipython-input-3-bc2054c22a83>\u001b[0m in \u001b[0;36m<module>\u001b[1;34m()\u001b[0m\n\u001b[0;32m     22\u001b[0m \u001b[1;33m\u001b[0m\u001b[0m\n\u001b[0;32m     23\u001b[0m \u001b[1;31m#Livetime\u001b[0m\u001b[1;33m\u001b[0m\u001b[1;33m\u001b[0m\u001b[0m\n\u001b[1;32m---> 24\u001b[1;33m \u001b[0msp\u001b[0m\u001b[1;33m.\u001b[0m\u001b[0myears\u001b[0m               \u001b[1;31m# which years to load\u001b[0m\u001b[1;33m\u001b[0m\u001b[0m\n\u001b[0m\u001b[0;32m     25\u001b[0m \u001b[0msp\u001b[0m\u001b[1;33m.\u001b[0m\u001b[0mburnSampleLivetime\u001b[0m  \u001b[1;31m# total livetime of burn sample\u001b[0m\u001b[1;33m\u001b[0m\u001b[0m\n\u001b[0;32m     26\u001b[0m \u001b[0msp\u001b[0m\u001b[1;33m.\u001b[0m\u001b[0mfullLivetime\u001b[0m        \u001b[1;31m# total livetime of full sample\u001b[0m\u001b[1;33m\u001b[0m\u001b[0m\n",
      "\u001b[1;31mTypeError\u001b[0m: No Python class registered for C++ class std::__1::vector<unsigned int, std::__1::allocator<unsigned int> >"
     ]
    }
   ],
   "source": [
    "# An object of type \"SteeringParams\" is used to configure the fitter.\n",
    "sp=ssp.SteeringParams()\n",
    "\n",
    "# Data / MC Configuration\n",
    "sp.useBurnSample       # Whether to load burnsample or full data\n",
    "sp.ReadCompact         # Read compact or full data and mc\n",
    "sp.xs_model_name       # Which cross section model to use\n",
    "sp.modelName           # Which flux model to use\n",
    "sp.oversizeFunction    # Which oversize function to use\n",
    "sp.simToLoad           # Which simulation set to load\n",
    "\n",
    "#Binning\n",
    "sp.cosThbinEdge        # Cos theta binning\n",
    "sp.cosThbinWidth       #  --\n",
    "sp.maxCosth            #  --\n",
    "sp.minCosth            #  --\n",
    "\n",
    "sp.logEbinEdge         # Energy binning\n",
    "sp.logEbinWidth        #  --\n",
    "sp.maxFitEnergy        #  --\n",
    "sp.minFitEnergy        #  --\n",
    "\n",
    "#Livetime\n",
    "sp.years               # which years to load\n",
    "sp.burnSampleLivetime  # total livetime of burn sample\n",
    "sp.fullLivetime        # total livetime of full sample\n",
    "\n",
    "#Technical stuff\n",
    "sp.useFactorization    # Whether to enable oscillation factorization\n",
    "sp.evalThreads         # How many threads to use for evaluating fits\n",
    "sp.quiet               # Control program verbosity"
   ]
  },
  {
   "cell_type": "code",
   "execution_count": null,
   "metadata": {
    "collapsed": false
   },
   "outputs": [],
   "source": [
    "sp.logEbinEdge"
   ]
  },
  {
   "cell_type": "code",
   "execution_count": null,
   "metadata": {
    "collapsed": true
   },
   "outputs": [],
   "source": [
    "# Bens notes : TO FIX\n",
    "# PyBinding for sp.years\n",
    "# SteeringParams object has no attribute cosThbinEdge"
   ]
  }
 ],
 "metadata": {
  "kernelspec": {
   "display_name": "Python 2",
   "language": "python",
   "name": "python2"
  },
  "language_info": {
   "codemirror_mode": {
    "name": "ipython",
    "version": 2
   },
   "file_extension": ".py",
   "mimetype": "text/x-python",
   "name": "python",
   "nbconvert_exporter": "python",
   "pygments_lexer": "ipython2",
   "version": "2.7.10"
  }
 },
 "nbformat": 4,
 "nbformat_minor": 0
}
